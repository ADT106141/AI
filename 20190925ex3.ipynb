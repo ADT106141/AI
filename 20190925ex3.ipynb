{
 "cells": [
  {
   "cell_type": "code",
   "execution_count": 1,
   "metadata": {},
   "outputs": [
    {
     "name": "stdout",
     "output_type": "stream",
     "text": [
      "請輸入身高(公分):176\n",
      "請輸入體重(公斤):70\n"
     ]
    }
   ],
   "source": [
    "BMI=0\n",
    "H=int(input('請輸入身高(公分):'))\n",
    "W=int(input('請輸入體重(公斤):'))"
   ]
  },
  {
   "cell_type": "code",
   "execution_count": 2,
   "metadata": {},
   "outputs": [
    {
     "name": "stdout",
     "output_type": "stream",
     "text": [
      "BMI = 22.598140\n",
      "\n"
     ]
    }
   ],
   "source": [
    "BMI = (W) / ((H/100)*(H/100))\n",
    "print (\"BMI = %f\\n\" % (BMI))"
   ]
  },
  {
   "cell_type": "code",
   "execution_count": 3,
   "metadata": {},
   "outputs": [
    {
     "name": "stdout",
     "output_type": "stream",
     "text": [
      "體重標準!\n"
     ]
    }
   ],
   "source": [
    "if BMI < 18.5:\n",
    "    print(\"你過瘦了!\")\n",
    "if BMI >=18.5 and BMI <24:\n",
    "    print(\"體重標準!\")\n",
    "if BMI >= 24:\n",
    "    print(\"體重過重!\")"
   ]
  },
  {
   "cell_type": "code",
   "execution_count": null,
   "metadata": {},
   "outputs": [],
   "source": []
  }
 ],
 "metadata": {
  "kernelspec": {
   "display_name": "Python 3",
   "language": "python",
   "name": "python3"
  },
  "language_info": {
   "codemirror_mode": {
    "name": "ipython",
    "version": 3
   },
   "file_extension": ".py",
   "mimetype": "text/x-python",
   "name": "python",
   "nbconvert_exporter": "python",
   "pygments_lexer": "ipython3",
   "version": "3.5.0"
  }
 },
 "nbformat": 4,
 "nbformat_minor": 2
}
